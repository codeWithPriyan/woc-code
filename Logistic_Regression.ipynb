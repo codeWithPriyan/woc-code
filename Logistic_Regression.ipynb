{
  "cells": [
    {
      "cell_type": "code",
      "execution_count": null,
      "id": "e0117ba0",
      "metadata": {
        "colab": {
          "base_uri": "https://localhost:8080/"
        },
        "id": "e0117ba0",
        "outputId": "38fb56bd-93d8-446c-f072-2f0545c17de8"
      },
      "outputs": [
        {
          "output_type": "stream",
          "name": "stdout",
          "text": [
            "Mounted at /content/drive\n"
          ]
        }
      ],
      "source": [
        "#Importing the required libraries\n",
        "\n",
        "import numpy as np\n",
        "import pandas as pd\n",
        "import matplotlib.pyplot as plt\n",
        "from google.colab import drive\n",
        "drive.mount('/content/drive')"
      ]
    },
    {
      "cell_type": "code",
      "execution_count": null,
      "id": "798d60bc",
      "metadata": {
        "id": "798d60bc"
      },
      "outputs": [],
      "source": [
        "#Importing the csv files into dataframes (both train and test)\n",
        "\n",
        "dftrain = pd.read_csv(\"/content/drive/MyDrive/WOC/emnist-letters-test.csv\", header=None)\n",
        "dftest = pd.read_csv(\"/content/drive/MyDrive/WOC/emnist-letters-test.csv\", header=None)"
      ]
    },
    {
      "cell_type": "code",
      "execution_count": null,
      "id": "105d9546",
      "metadata": {
        "id": "105d9546"
      },
      "outputs": [],
      "source": [
        "#Functions\n",
        "\n",
        "def importing(dataframe):\n",
        "    X = dataframe.iloc[:,1:].transpose()\n",
        "    features = X.shape[0]\n",
        "    examples = X.shape[1]\n",
        "    Y = dataframe.iloc[:,0]\n",
        "    return X, Y, features, examples\n",
        "\n",
        "Xtrain, Ytrain, trainfeatures, trainexamples = importing(dftrain)\n",
        "Xtest, Ytest, testfeatures, testexamples = importing(dftest)\n",
        "\n",
        "def scaling(X):\n",
        "    X = X.div(255)\n",
        "    return X\n",
        "\n",
        "Xtrain = scaling(Xtrain)\n",
        "Xtest = scaling(Xtest)\n",
        "\n",
        "def onevsall(Y):\n",
        "    Yzeros = np.zeros((trainexamples, 26))\n",
        "    for i in range(trainexamples):\n",
        "        val = Y[i] - 1\n",
        "        Yzeros[i][val] = 1\n",
        "    Y = Yzeros\n",
        "    return Y\n",
        "\n",
        "Ytrain = onevsall(Ytrain)"
      ]
    },
    {
      "cell_type": "code",
      "execution_count": null,
      "id": "f4232e53",
      "metadata": {
        "id": "f4232e53"
      },
      "outputs": [],
      "source": [
        "def logistic(X, Y, learningrate, iteration):\n",
        "    theta = np.zeros((trainfeatures, 26))\n",
        "    X = X.to_numpy()\n",
        "    costlist = []\n",
        "    for i in range(iteration):\n",
        "        z = np.dot(X.T, theta)\n",
        "        y_pred = 1/(1+np.exp(-z))\n",
        "        cost = (-1/trainexamples) * (np.sum(Y*np.log(y_pred) + (1-Y)*np.log(1-y_pred)))\n",
        "        pdcost = (1/trainexamples) * np.dot(X, y_pred - Y) \n",
        "        temptheta = theta - learningrate * pdcost\n",
        "        theta = temptheta\n",
        "        costlist.append(cost)\n",
        "    return costlist, theta, y_pred"
      ]
    },
    {
      "cell_type": "code",
      "execution_count": null,
      "id": "60915455",
      "metadata": {
        "id": "60915455"
      },
      "outputs": [],
      "source": [
        "costlist, theta, y_pred = logistic(Xtrain, Ytrain, 1, 2000)"
      ]
    },
    {
      "cell_type": "code",
      "execution_count": null,
      "id": "383df714",
      "metadata": {
        "colab": {
          "base_uri": "https://localhost:8080/"
        },
        "id": "383df714",
        "outputId": "0b592a9f-46f0-4363-febd-dafc2d2bf7b0"
      },
      "outputs": [
        {
          "output_type": "execute_result",
          "data": {
            "text/plain": [
              "75.56756756756758"
            ]
          },
          "metadata": {},
          "execution_count": 20
        }
      ],
      "source": [
        "def accuracy(X, Y, theta):\n",
        "  z_final = np.dot(X.T, theta)\n",
        "  y_final = 1/(1+np.exp(-z_final))\n",
        "  Y_pred = np.argmax(y_final, axis=1) + 1\n",
        "  Y_check = Y_pred - Ytest\n",
        "  accuracy = Y_check.tolist().count(0)/len(Ytest)*100\n",
        "  return accuracy\n",
        "accuracy = accuracy(Xtest, Ytest, theta)\n",
        "accuracy"
      ]
    },
    {
      "cell_type": "code",
      "source": [
        ""
      ],
      "metadata": {
        "id": "sjZCEfPQUzSF"
      },
      "id": "sjZCEfPQUzSF",
      "execution_count": null,
      "outputs": []
    }
  ],
  "metadata": {
    "kernelspec": {
      "display_name": "Python 3 (ipykernel)",
      "language": "python",
      "name": "python3"
    },
    "language_info": {
      "codemirror_mode": {
        "name": "ipython",
        "version": 3
      },
      "file_extension": ".py",
      "mimetype": "text/x-python",
      "name": "python",
      "nbconvert_exporter": "python",
      "pygments_lexer": "ipython3",
      "version": "3.10.3"
    },
    "colab": {
      "name": "Logistic Regression.ipynb",
      "provenance": [],
      "collapsed_sections": []
    }
  },
  "nbformat": 4,
  "nbformat_minor": 5
}