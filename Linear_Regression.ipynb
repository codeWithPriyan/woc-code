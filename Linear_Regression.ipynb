{
  "nbformat": 4,
  "nbformat_minor": 0,
  "metadata": {
    "colab": {
      "name": "Linear Regression Updated.ipynb",
      "provenance": []
    },
    "kernelspec": {
      "name": "python3",
      "display_name": "Python 3"
    },
    "language_info": {
      "name": "python"
    }
  },
  "cells": [
    {
      "cell_type": "code",
      "execution_count": 52,
      "metadata": {
        "colab": {
          "base_uri": "https://localhost:8080/"
        },
        "id": "3gQIP6slNXtd",
        "outputId": "b0b50501-72b8-4cce-e75f-9eddf2283255"
      },
      "outputs": [
        {
          "output_type": "stream",
          "name": "stdout",
          "text": [
            "Drive already mounted at /content/drive; to attempt to forcibly remount, call drive.mount(\"/content/drive\", force_remount=True).\n"
          ]
        }
      ],
      "source": [
        "#Importing the required libraries\n",
        "\n",
        "import numpy as np\n",
        "import pandas as pd\n",
        "import matplotlib.pyplot as plt\n",
        "from google.colab import drive\n",
        "drive.mount('/content/drive')"
      ]
    },
    {
      "cell_type": "code",
      "source": [
        "#Importing the csv files into dataframes (both train and test)\n",
        "\n",
        "dftrain = pd.read_csv(\"/content/drive/MyDrive/WOC/Linear_train.csv\", header = [0])\n",
        "del dftrain['Unnamed: 0']\n",
        "dftest = pd.read_csv(\"/content/drive/MyDrive/WOC/Linear_test.csv\", header = [0])\n",
        "del dftest['Unnamed: 0']"
      ],
      "metadata": {
        "id": "ln1KXso-NptU"
      },
      "execution_count": 53,
      "outputs": []
    },
    {
      "cell_type": "code",
      "source": [
        "#Functions\n",
        "\n",
        "def importing(dataframe):\n",
        "    X = dataframe.iloc[:,1:].transpose() \n",
        "    features = X.shape[0]\n",
        "    examples = X.shape[1]\n",
        "    Y = dataframe.iloc[:,0].to_numpy()\n",
        "    return X, Y, features, examples\n",
        "\n",
        "Xtrain, Ytrain, trainfeatures, trainexamples = importing(dftrain)\n",
        "Xtest, Ytest, testfeatures, testexamples = importing(dftest)\n",
        "\n",
        "def standardization(X):\n",
        "  features = X.shape[0]\n",
        "  for i in range(1,features):\n",
        "    rowmin = X.iloc[i,:].min()\n",
        "    rowmean = X.iloc[i,:].mean()\n",
        "    rowstd = X.iloc[i,:].std()\n",
        "    X.iloc[i,:] -= rowmin\n",
        "    X.iloc[i,:] -= rowmean\n",
        "    X.iloc[i,:] /= rowstd\n",
        "  return X.to_numpy()\n",
        "\n",
        "Xtrain = standardization(Xtrain)\n",
        "Xtest = standardization(Xtest)"
      ],
      "metadata": {
        "id": "ep851L8LNrDc"
      },
      "execution_count": 54,
      "outputs": []
    },
    {
      "cell_type": "code",
      "source": [
        "#Appending row with all ones to Xtrain\n",
        "\n",
        "def appending(X, examples):\n",
        "  Xones = np.ones((1,examples))\n",
        "  X = np.concatenate((Xones, X))\n",
        "  return X\n",
        "\n",
        "Xtrain = appending(Xtrain, trainexamples)\n",
        "Xtest = appending(Xtest, testexamples)"
      ],
      "metadata": {
        "id": "QKoWiS7rNsR8"
      },
      "execution_count": 55,
      "outputs": []
    },
    {
      "cell_type": "code",
      "source": [
        "#Applying linear regression on the dataset\n",
        "\n",
        "X = Xtrain\n",
        "Y = Ytrain.reshape(1, trainexamples)\n",
        "theta = np.random.randn(trainfeatures+1, 1)\n",
        "iteration = 10000\n",
        "learningrate = 0.0000001\n",
        "def linear(X, Y, theta, learningrate, iteration):\n",
        "  costlist = []\n",
        "  for i in range(iteration):\n",
        "    y_pred = np.dot(X.T, theta).T\n",
        "    diff = (y_pred - Y).reshape(trainexamples, 1)\n",
        "    cost = (1/(2*trainexamples))*(np.sum(np.square(diff)))\n",
        "    pdcost = (1/trainexamples)*np.dot(X, diff)\n",
        "    theta -= learningrate*pdcost\n",
        "    costlist.append(cost)\n",
        "  return theta, y_pred, costlist"
      ],
      "metadata": {
        "id": "rF8ahTE-Nvdk"
      },
      "execution_count": 60,
      "outputs": []
    },
    {
      "cell_type": "code",
      "source": [
        "#Using the function\n",
        "\n",
        "theta, y_pred, costlist = linear(Xtrain, Ytrain, theta, learningrate, iteration)\n",
        "plt.plot([i for i in range(iteration)], costlist)"
      ],
      "metadata": {
        "colab": {
          "base_uri": "https://localhost:8080/",
          "height": 283
        },
        "id": "6kmDGV4xNwu8",
        "outputId": "d7162605-10ca-4614-e20a-e7961064f81d"
      },
      "execution_count": 61,
      "outputs": [
        {
          "output_type": "execute_result",
          "data": {
            "text/plain": [
              "[<matplotlib.lines.Line2D at 0x7fe9b7240b50>]"
            ]
          },
          "metadata": {},
          "execution_count": 61
        },
        {
          "output_type": "display_data",
          "data": {
            "text/plain": [
              "<Figure size 432x288 with 1 Axes>"
            ],
            "image/png": "[encoded data removed]"
          },
          "metadata": {
            "needs_background": "light"
          }
        }
      ]
    },
    {
      "cell_type": "code",
      "source": [
        "#Using the theta on Xtest\n",
        "\n",
        "Ypredfinal = np.dot(Xtest.T, theta)"
      ],
      "metadata": {
        "id": "nrMuRzmtNx0U"
      },
      "execution_count": 62,
      "outputs": []
    },
    {
      "cell_type": "code",
      "source": [
        "#Finding the error\n",
        "\n",
        "Yfinal = Ytest.reshape(testexamples, 1)\n",
        "rmserror = np.sqrt((np.sum(np.square(Yfinal - Ypredfinal)))/testexamples)\n",
        "print(rmserror)"
      ],
      "metadata": {
        "colab": {
          "base_uri": "https://localhost:8080/"
        },
        "id": "CosBiIDTNy-U",
        "outputId": "eb369693-ec9b-4e47-d3d9-08872efa13ed"
      },
      "execution_count": 63,
      "outputs": [
        {
          "output_type": "stream",
          "name": "stdout",
          "text": [
            "29.424292660680106\n"
          ]
        }
      ]
    },
    {
      "cell_type": "code",
      "source": [
        ""
      ],
      "metadata": {
        "id": "oFkgSx7gOWKd"
      },
      "execution_count": null,
      "outputs": []
    }
  ]
}