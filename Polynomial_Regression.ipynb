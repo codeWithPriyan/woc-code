{
  "cells": [
    {
      "cell_type": "code",
      "execution_count": 50,
      "id": "62105888",
      "metadata": {
        "id": "62105888",
        "colab": {
          "base_uri": "https://localhost:8080/"
        },
        "outputId": "36263928-82c7-4856-ff6b-7b90b0fce01e"
      },
      "outputs": [
        {
          "output_type": "stream",
          "name": "stdout",
          "text": [
            "Drive already mounted at /content/drive; to attempt to forcibly remount, call drive.mount(\"/content/drive\", force_remount=True).\n"
          ]
        }
      ],
      "source": [
        "#Importing the required libraries\n",
        "\n",
        "import numpy as np\n",
        "import pandas as pd\n",
        "import matplotlib.pyplot as plt\n",
        "from google.colab import drive\n",
        "drive.mount('/content/drive')"
      ]
    },
    {
      "cell_type": "code",
      "execution_count": 51,
      "id": "cbdf5781",
      "metadata": {
        "id": "cbdf5781"
      },
      "outputs": [],
      "source": [
        "#Importing the csv files into dataframes (both train and test)\n",
        "\n",
        "dftrain = pd.read_csv(\"/content/drive/MyDrive/WOC/Polynomial_train.csv\", header = [0])\n",
        "del dftrain['Unnamed: 0']\n",
        "dftest = pd.read_csv(\"/content/drive/MyDrive/WOC/Polynomial_test.csv\", header = [0])\n",
        "del dftest['Unnamed: 0']"
      ]
    },
    {
      "cell_type": "code",
      "execution_count": 52,
      "id": "5e555b7a",
      "metadata": {
        "id": "5e555b7a"
      },
      "outputs": [],
      "source": [
        "#Functions\n",
        "\n",
        "def importing(dataframe):\n",
        "    X = dataframe.iloc[:,1:].transpose() #784x4000\n",
        "    features = X.shape[0]\n",
        "    examples = X.shape[1]\n",
        "    Y = dataframe.iloc[:,0].to_numpy()\n",
        "    return X, Y, features, examples\n",
        "\n",
        "Xtrain, Ytrain, trainfeatures, trainexamples = importing(dftrain)\n",
        "Xtest, Ytest, testfeatures, testexamples = importing(dftest)\n",
        "\n",
        "def standardization(X):\n",
        "  features = X.shape[0]\n",
        "  for i in range(1,features):\n",
        "    rowmin = X.iloc[i,:].min()\n",
        "    rowmean = X.iloc[i,:].mean()\n",
        "    rowstd = X.iloc[i,:].std()\n",
        "    X.iloc[i,:] -= rowmin\n",
        "    X.iloc[i,:] -= rowmean\n",
        "    X.iloc[i,:] /= rowstd\n",
        "  return X.to_numpy()\n",
        "\n",
        "Xtrain = standardization(Xtrain)\n",
        "Xtest = standardization(Xtest)\n",
        "\n",
        "#Appending row with all ones and polynomial features to Xtrai\n",
        "\n",
        "def polynomialfeatures(X, examples):\n",
        "  quadraticfeatures = []\n",
        "  cubicfeatures = []\n",
        "  Xones = np.ones((1,examples))\n",
        "  for i in range(3):\n",
        "    for j in range(i, 3):\n",
        "        temparrayquad = np.multiply(X[i,:], X[j,:])\n",
        "        quadraticfeatures.append(temparrayquad)\n",
        "  for i in range(3):\n",
        "    for j in range(i,3):\n",
        "        for k in range(j,3):\n",
        "            temparraycubic1 = np.multiply(X[i,:], X[j,:])\n",
        "            temparraycubic = np.multiply(temparraycubic1, X[k,:])\n",
        "            cubicfeatures.append(temparraycubic)\n",
        "  X = pd.DataFrame(np.concatenate([Xones, X, quadraticfeatures, cubicfeatures])) \n",
        "  features = len(X) - 1\n",
        "  return X, features\n",
        "\n",
        "Xtrain, trainfeatures = polynomialfeatures(Xtrain, trainexamples)\n",
        "Xtest, testfeatures = polynomialfeatures(Xtest, testexamples)\n"
      ]
    },
    {
      "cell_type": "code",
      "execution_count": 53,
      "id": "599484db",
      "metadata": {
        "id": "599484db"
      },
      "outputs": [],
      "source": [
        "#Applying polynomial regression on the dataset\n",
        "\n",
        "X_linear = Xtrain.iloc[:4,:].to_numpy()\n",
        "X_quadratic = Xtrain.iloc[:10,:].to_numpy()\n",
        "X_cubic = Xtrain.to_numpy()\n",
        "\n",
        "Y = Ytrain.reshape(trainexamples, 1)\n",
        "\n",
        "theta_linear = np.zeros((4, 1))\n",
        "theta_quadratic = np.zeros((10, 1))\n",
        "theta_cubic = np.zeros((20, 1))\n",
        "\n",
        "iteration_linear = 20000\n",
        "learningrate_linear = 0.00001\n",
        "\n",
        "iteration_quadratic = 20000\n",
        "learningrate_quadratic = 0.0001\n",
        "\n",
        "iteration_cubic = 5000\n",
        "learningrate_cubic = 0.000012\n",
        "\n",
        "def model(X, Y, theta, learningrate, iteration):\n",
        "    costlist = []\n",
        "    for i in range(iteration):\n",
        "        y_pred = np.dot(X.T, theta)\n",
        "        cost = (1/(2*trainexamples))*(np.sum(np.square(y_pred - Y)))\n",
        "        pdcost = (1/trainexamples)*np.dot(X, y_pred - Y)\n",
        "        temptheta = theta - learningrate*pdcost\n",
        "        theta = temptheta\n",
        "        costlist.append(cost)\n",
        "    return theta, y_pred, costlist"
      ]
    },
    {
      "cell_type": "code",
      "execution_count": 54,
      "id": "78a778f5",
      "metadata": {
        "id": "78a778f5",
        "colab": {
          "base_uri": "https://localhost:8080/",
          "height": 276
        },
        "outputId": "763c21d8-ec23-4f65-dc75-483ad6a8945d"
      },
      "outputs": [
        {
          "output_type": "display_data",
          "data": {
            "text/plain": [
              "<Figure size 432x288 with 1 Axes>"
            ],
            "image/png": "[encoded data removed]"
          },
          "metadata": {
            "needs_background": "light"
          }
        }
      ],
      "source": [
        "#Extracting theta, prediction and cost, and plotting the cost versus iterations graph\n",
        "\n",
        "theta_linear, y_pred_linear, costlist_linear = model(X_linear, Y, theta_linear, learningrate_linear, iteration_linear)\n",
        "plt.plot([i for i in range(iteration_linear)], costlist_linear)\n",
        "plt.show()"
      ]
    },
    {
      "cell_type": "code",
      "execution_count": 55,
      "id": "02a1100f",
      "metadata": {
        "id": "02a1100f",
        "colab": {
          "base_uri": "https://localhost:8080/",
          "height": 268
        },
        "outputId": "3d5d4a67-0ae1-4a81-eded-cafbdcfc8672"
      },
      "outputs": [
        {
          "output_type": "display_data",
          "data": {
            "text/plain": [
              "<Figure size 432x288 with 1 Axes>"
            ],
            "image/png": "[encoded data removed]"
          },
          "metadata": {
            "needs_background": "light"
          }
        }
      ],
      "source": [
        "#Extracting theta, prediction and cost, and plotting the cost versus iterations graph\n",
        "\n",
        "theta_quadratic, y_pred_quadratic, costlist_quadratic = model(X_quadratic, Y, theta_quadratic, learningrate_quadratic, iteration_quadratic)\n",
        "plt.plot([i for i in range(iteration_quadratic)], costlist_quadratic)\n",
        "plt.show()"
      ]
    },
    {
      "cell_type": "code",
      "execution_count": 56,
      "id": "1fd6c50f",
      "metadata": {
        "id": "1fd6c50f",
        "colab": {
          "base_uri": "https://localhost:8080/",
          "height": 265
        },
        "outputId": "c91cdac8-fc46-4f77-f9e6-c16aa41eed27"
      },
      "outputs": [
        {
          "output_type": "display_data",
          "data": {
            "text/plain": [
              "<Figure size 432x288 with 1 Axes>"
            ],
            "image/png": "[encoded data removed]"
          },
          "metadata": {
            "needs_background": "light"
          }
        }
      ],
      "source": [
        "#Extracting theta, prediction and cost, and plotting the cost versus iterations graph\n",
        "\n",
        "theta_cubic, y_pred_cubic, costlist_cubic = model(X_cubic, Y, theta_cubic, learningrate_cubic, iteration_cubic)\n",
        "plt.plot([i for i in range(iteration_cubic)], costlist_cubic)\n",
        "plt.show()"
      ]
    },
    {
      "cell_type": "code",
      "execution_count": 57,
      "id": "796e18dd",
      "metadata": {
        "id": "796e18dd"
      },
      "outputs": [],
      "source": [
        "#Using the theta on Xtest for all the 3 cases\n",
        "\n",
        "X_test = Xtest.to_numpy()\n",
        "\n",
        "Ypredfinal_linear = np.dot(X_test[:4,].T, theta_linear)\n",
        "Ypredfinal_quadratic = np.dot(X_test[:10,].T, theta_quadratic)\n",
        "Ypredfinal_cubic = np.dot(X_test.T, theta_cubic)"
      ]
    },
    {
      "cell_type": "code",
      "execution_count": 58,
      "id": "03f377d7",
      "metadata": {
        "id": "03f377d7",
        "colab": {
          "base_uri": "https://localhost:8080/"
        },
        "outputId": "8461466e-3a6f-48c5-8478-928926292830"
      },
      "outputs": [
        {
          "output_type": "stream",
          "name": "stdout",
          "text": [
            "5.769233409555011\n",
            "4.158575950667938\n",
            "4.3593333071132845\n"
          ]
        }
      ],
      "source": [
        "#Finding the error\n",
        "\n",
        "Yfinal = Ytest.reshape(testexamples, 1)\n",
        "\n",
        "rmserror_linear = np.sqrt((np.sum(np.square(Yfinal - Ypredfinal_linear)))/testexamples)\n",
        "rmserror_quadratic = np.sqrt((np.sum(np.square(Yfinal - Ypredfinal_quadratic)))/testexamples)\n",
        "rmserror_cubic = np.sqrt((np.sum(np.square(Yfinal - Ypredfinal_cubic)))/testexamples)\n",
        "\n",
        "print(rmserror_linear)\n",
        "print(rmserror_quadratic)\n",
        "print(rmserror_cubic)"
      ]
    },
    {
      "cell_type": "code",
      "source": [
        ""
      ],
      "metadata": {
        "id": "5flwDwcgApUY"
      },
      "id": "5flwDwcgApUY",
      "execution_count": 58,
      "outputs": []
    }
  ],
  "metadata": {
    "kernelspec": {
      "display_name": "Python 3 (ipykernel)",
      "language": "python",
      "name": "python3"
    },
    "language_info": {
      "codemirror_mode": {
        "name": "ipython",
        "version": 3
      },
      "file_extension": ".py",
      "mimetype": "text/x-python",
      "name": "python",
      "nbconvert_exporter": "python",
      "pygments_lexer": "ipython3",
      "version": "3.10.3"
    },
    "colab": {
      "name": "Polynomial Regression.ipynb",
      "provenance": [],
      "collapsed_sections": []
    }
  },
  "nbformat": 4,
  "nbformat_minor": 5
}